{
 "cells": [
  {
   "cell_type": "markdown",
   "metadata": {},
   "source": [
    "# Equipo 5\n",
    "- Luis David Davila Torres\n",
    "- Josue Alonso Salazar Serrato\n",
    "\n",
    "# Analisando las ventas de videojuegos en el MMMa \n",
    "\n",
    "## Descripción \n",
    "Construir un modelo que pueda predecir las ventas de videojuegos en función de otras características del conjunto de datos de las Ventas de videojuegos.\n",
    "\n",
    "\n",
    "## Preguntas de interés.\n",
    "\n",
    "1.\t¿Cuál sería la venta esperada de cierto videojuego con ciertas características si se lanza al mercado por zona específica o en forma global?\n",
    "2.\tComo gerente de una de las compañías de consolas ¿me convendría invertir en una desarrolladora exclusiva enfocada en un mercado para poder generar ingresos en un mercado nuevo, conociendo ya las preferencias de género que existen?\n"
   ]
  },
  {
   "cell_type": "markdown",
   "metadata": {},
   "source": [
    "# IMPORTAR LIBRERIAS Y BASE DE DATOS Y VISUALIZAR LOS DATOS"
   ]
  },
  {
   "cell_type": "code",
   "execution_count": 61,
   "metadata": {},
   "outputs": [],
   "source": [
    "import pandas as pd \n",
    "import numpy as np\n",
    "import matplotlib as plt\n",
    "import matplotlib.pyplot as plt\n",
    "\n",
    "%matplotlib inline\n",
    "SALES = pd.read_csv(\"C:/Users/david/Mineria Datos/Mineria/Avance PIA/BASE USAR.csv\", index_col=0)\n",
    "Data=pd.DataFrame(SALES)\n",
    "\n"
   ]
  },
  {
   "cell_type": "markdown",
   "metadata": {},
   "source": [
    "# Descripccion"
   ]
  },
  {
   "cell_type": "code",
   "execution_count": 12,
   "metadata": {},
   "outputs": [],
   "source": [
    "Data.shape\n",
    "Data.dtypes\n",
    "Data.isnull().any()\n",
    "Data.isnull().sum()"
   ]
  },
  {
   "cell_type": "markdown",
   "metadata": {},
   "source": [
    "<b>Numero de Filas</b> = 16719   <b>Numero de Columnas</b>  = 15\n",
    "   \n",
    "   <b>Tipo de dato de cada columna</b>\n",
    "   - Platform         =   object\n",
    "   - Year_of_Release  =   float64\n",
    "   - Genre            =    object\n",
    "   - Publisher        =    object\n",
    "   - NA_Sales         =   float64\n",
    "   - EU_Sales         =   float64\n",
    "   - JP_Sales         =   float64\n",
    "   - Other_Sales      =   float64\n",
    "   - Global_Sales     =   float64\n",
    "   - Critic_Score     =   float64\n",
    "   - Critic_Count     =   float64\n",
    "   - User_Score       =    object\n",
    "   - User_Count       =   float64\n",
    "   - Developer        =    object\n",
    "   - Rating           =    object\n",
    "   \n",
    "<b>Numero de nulos en cada columna</b>\n",
    "   - Platform         =      0\n",
    "   - Year_of_Release  =    269\n",
    "   - Genre            =      2\n",
    "   - Publisher        =     54\n",
    "   - NA_Sales         =      0\n",
    "   - EU_Sales         =      0\n",
    "   - JP_Sales         =      0\n",
    "   - Other_Sales      =      0\n",
    "   - Global_Sales     =      0\n",
    "   - Critic_Score     =   8582\n",
    "   - Critic_Count     =   8582\n",
    "   - User_Score       =   6704\n",
    "   - User_Count       =   9129\n",
    "   - Developer        =   6623\n",
    "   - Rating           =   6769"
   ]
  },
  {
   "cell_type": "markdown",
   "metadata": {},
   "source": [
    "## Limpieza "
   ]
  },
  {
   "cell_type": "code",
   "execution_count": 56,
   "metadata": {},
   "outputs": [],
   "source": [
    "Data2=Data.rename(columns = {'Platform':'Plataforma','Year_of_Release':'Lanzamiento','Genre':'Genero','NA_Sales':'V_NA',\n",
    "                             'EU_Sales':'V_EU','JP_Sales':'V_JP','Other_Sales':'V_Otros','Global_Sales':'V_Global',\n",
    "                             'Critic_Score':'Score','User_Score':'Score_Usuarios','Rating':'ESRB'})\n",
    "Data3=Data2\n",
    "Data3V1=Data3.drop(['Publisher','Critic_Count', 'User_Count', 'Developer','Score_Usuarios'],axis=1) #Sin score de usuarios\n",
    "Data3V2=Data3.drop(['Publisher','Critic_Count', 'User_Count', 'Developer'],axis=1) #Con score de usuarios\n",
    "Data3V2[\"Score_Usuarios\"] = Data3V2[\"Score_Usuarios\"].replace(\"tbd\", np.nan).astype(float) #Sustituimos TDB = \"to be determined\" por NA\n",
    "\n",
    "Data4 = Data3V1.dropna(axis=0) #Eliminamos los filas que contienen Nulos"
   ]
  },
  {
   "cell_type": "markdown",
   "metadata": {},
   "source": [
    "<b>Después de realizar toda la limpieza nos da un resultado de </b>  7902   <b> Registros y </b>   10 <b> Columnas listos para realizar nuestros análisis </b>"
   ]
  },
  {
   "cell_type": "markdown",
   "metadata": {},
   "source": [
    "## Descripcion estadistica"
   ]
  },
  {
   "cell_type": "code",
   "execution_count": 54,
   "metadata": {},
   "outputs": [
    {
     "data": {
      "text/plain": [
       "count    7902.000000\n",
       "mean       68.995318\n",
       "std        13.934261\n",
       "min        13.000000\n",
       "25%        60.000000\n",
       "50%        71.000000\n",
       "75%        79.000000\n",
       "max        98.000000\n",
       "Name: Score, dtype: float64"
      ]
     },
     "execution_count": 54,
     "metadata": {},
     "output_type": "execute_result"
    }
   ],
   "source": [
    "Data4['Score'].describe()\n",
    "#Data4['Genero'].describe()\n",
    "#Data4['Plataforma'].describe()\n",
    "#Data4['V_Global'].describe()\n",
    "#Data4['Score_Usuarios'].unique\n"
   ]
  },
  {
   "cell_type": "code",
   "execution_count": 63,
   "metadata": {},
   "outputs": [
    {
     "ename": "NameError",
     "evalue": "name 'sns' is not defined",
     "output_type": "error",
     "traceback": [
      "\u001b[1;31m---------------------------------------------------------------------------\u001b[0m",
      "\u001b[1;31mNameError\u001b[0m                                 Traceback (most recent call last)",
      "\u001b[1;32m<ipython-input-63-14fa9ee08126>\u001b[0m in \u001b[0;36m<module>\u001b[1;34m\u001b[0m\n\u001b[1;32m----> 1\u001b[1;33m \u001b[0msns\u001b[0m\u001b[1;33m.\u001b[0m\u001b[0mcountplot\u001b[0m\u001b[1;33m(\u001b[0m\u001b[0mData4\u001b[0m\u001b[1;33m[\u001b[0m\u001b[1;34m'Plataforma'\u001b[0m\u001b[1;33m]\u001b[0m\u001b[1;33m)\u001b[0m\u001b[1;33m\u001b[0m\u001b[1;33m\u001b[0m\u001b[0m\n\u001b[0m",
      "\u001b[1;31mNameError\u001b[0m: name 'sns' is not defined"
     ]
    }
   ],
   "source": [
    "sns.countplot(Data4['Plataforma'])"
   ]
  }
 ],
 "metadata": {
  "kernelspec": {
   "display_name": "Python 3",
   "language": "python",
   "name": "python3"
  },
  "language_info": {
   "codemirror_mode": {
    "name": "ipython",
    "version": 3
   },
   "file_extension": ".py",
   "mimetype": "text/x-python",
   "name": "python",
   "nbconvert_exporter": "python",
   "pygments_lexer": "ipython3",
   "version": "3.7.4"
  }
 },
 "nbformat": 4,
 "nbformat_minor": 2
}
